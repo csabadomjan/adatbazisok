{
    "metadata": {
        "kernelspec": {
            "name": "SQL",
            "display_name": "SQL",
            "language": "sql"
        },
        "language_info": {
            "name": "sql",
            "version": ""
        }
    },
    "nbformat_minor": 2,
    "nbformat": 4,
    "cells": [
        {
            "cell_type": "markdown",
            "source": [
                ""
            ],
            "metadata": {
                "azdata_cell_guid": "0c0ac08b-97dc-4819-affa-a4895423cef4"
            }
        },
        {
            "cell_type": "code",
            "source": [
                "SELECT *\r\n",
                "FROM Oktatok"
            ],
            "metadata": {
                "azdata_cell_guid": "fe4664a1-efaf-4881-b860-9d6b03d8a22b",
                "language": "sql",
                "tags": []
            },
            "outputs": [
                {
                    "output_type": "display_data",
                    "data": {
                        "text/html": "(25 rows affected)"
                    },
                    "metadata": {}
                },
                {
                    "output_type": "display_data",
                    "data": {
                        "text/html": "Total execution time: 00:00:00.003"
                    },
                    "metadata": {}
                },
                {
                    "output_type": "execute_result",
                    "execution_count": 9,
                    "data": {
                        "application/vnd.dataresource+json": {
                            "schema": {
                                "fields": [
                                    {
                                        "name": "oktato_id"
                                    },
                                    {
                                        "name": "nev"
                                    },
                                    {
                                        "name": "titulus"
                                    },
                                    {
                                        "name": "beosztás"
                                    },
                                    {
                                        "name": "status"
                                    }
                                ]
                            },
                            "data": [
                                {
                                    "oktato_id": "1",
                                    "nev": "Kovács László",
                                    "titulus": "Dr.",
                                    "beosztás": "6",
                                    "status": "2"
                                },
                                {
                                    "oktato_id": "2",
                                    "nev": "Szentágotai Istvás",
                                    "titulus": "Dr.",
                                    "beosztás": "3",
                                    "status": "2"
                                },
                                {
                                    "oktato_id": "3",
                                    "nev": "Szerb László",
                                    "titulus": "NULL",
                                    "beosztás": "4",
                                    "status": "1"
                                },
                                {
                                    "oktato_id": "4",
                                    "nev": "Ujfalussi István",
                                    "titulus": "Prof, tanszékvezető",
                                    "beosztás": "6",
                                    "status": "2"
                                },
                                {
                                    "oktato_id": "5",
                                    "nev": "Balkán András",
                                    "titulus": "Dr.",
                                    "beosztás": "4",
                                    "status": "2"
                                },
                                {
                                    "oktato_id": "6",
                                    "nev": "Szép llonka",
                                    "titulus": "Dr.",
                                    "beosztás": "3",
                                    "status": "1"
                                },
                                {
                                    "oktato_id": "7",
                                    "nev": "Kiss János",
                                    "titulus": "NULL",
                                    "beosztás": "2",
                                    "status": "1"
                                },
                                {
                                    "oktato_id": "8",
                                    "nev": "Pelikán József",
                                    "titulus": "NULL",
                                    "beosztás": "2",
                                    "status": "3"
                                },
                                {
                                    "oktato_id": "9",
                                    "nev": "Farkasos Piroska",
                                    "titulus": "NULL",
                                    "beosztás": "2",
                                    "status": "3"
                                },
                                {
                                    "oktato_id": "10",
                                    "nev": "Jogrerős Pál",
                                    "titulus": "Prof.",
                                    "beosztás": "6",
                                    "status": "1"
                                },
                                {
                                    "oktato_id": "11",
                                    "nev": "Józsa Gábor",
                                    "titulus": "Dr.",
                                    "beosztás": "4",
                                    "status": "1"
                                },
                                {
                                    "oktato_id": "12",
                                    "nev": "Varga Kata",
                                    "titulus": "Dr.",
                                    "beosztás": "4",
                                    "status": "1"
                                },
                                {
                                    "oktato_id": "14",
                                    "nev": "Szénási ászló",
                                    "titulus": "NULL",
                                    "beosztás": "3",
                                    "status": "1"
                                },
                                {
                                    "oktato_id": "18",
                                    "nev": "Nógrádi Kata",
                                    "titulus": "NULL",
                                    "beosztás": "1",
                                    "status": "1"
                                },
                                {
                                    "oktato_id": "19",
                                    "nev": "Rácz András",
                                    "titulus": "NULL",
                                    "beosztás": "1",
                                    "status": "1"
                                },
                                {
                                    "oktato_id": "20",
                                    "nev": "Kovács András",
                                    "titulus": "NULL",
                                    "beosztás": "1",
                                    "status": "1"
                                },
                                {
                                    "oktato_id": "104",
                                    "nev": "Ludas Mátyás",
                                    "titulus": "NULL",
                                    "beosztás": "1",
                                    "status": "1"
                                },
                                {
                                    "oktato_id": "105",
                                    "nev": "Kiss István",
                                    "titulus": "NULL",
                                    "beosztás": "1",
                                    "status": "2"
                                },
                                {
                                    "oktato_id": "107",
                                    "nev": "Mészáros Kriszta",
                                    "titulus": "NULL",
                                    "beosztás": "1",
                                    "status": "2"
                                },
                                {
                                    "oktato_id": "108",
                                    "nev": "Róbert Gida",
                                    "titulus": "NULL",
                                    "beosztás": "2",
                                    "status": "1"
                                },
                                {
                                    "oktato_id": "111",
                                    "nev": "Vitéz János",
                                    "titulus": "NULL",
                                    "beosztás": "2",
                                    "status": "1"
                                },
                                {
                                    "oktato_id": "200",
                                    "nev": "Aranyi Mária",
                                    "titulus": "NULL",
                                    "beosztás": "1",
                                    "status": "1"
                                },
                                {
                                    "oktato_id": "300",
                                    "nev": "Szabó Andrera",
                                    "titulus": "NULL",
                                    "beosztás": "1",
                                    "status": "1"
                                },
                                {
                                    "oktato_id": "301",
                                    "nev": "Juhász András",
                                    "titulus": "Dr.",
                                    "beosztás": "6",
                                    "status": "1"
                                },
                                {
                                    "oktato_id": "302",
                                    "nev": "Kovacs Istvan",
                                    "titulus": "Dr.",
                                    "beosztás": "5",
                                    "status": "1"
                                }
                            ]
                        },
                        "text/html": "<table><tr><th>oktato_id</th><th>nev</th><th>titulus</th><th>beosztás</th><th>status</th></tr><tr><td>1</td><td>Kovács László</td><td>Dr.</td><td>6</td><td>2</td></tr><tr><td>2</td><td>Szentágotai Istvás</td><td>Dr.</td><td>3</td><td>2</td></tr><tr><td>3</td><td>Szerb László</td><td>NULL</td><td>4</td><td>1</td></tr><tr><td>4</td><td>Ujfalussi István</td><td>Prof, tanszékvezető</td><td>6</td><td>2</td></tr><tr><td>5</td><td>Balkán András</td><td>Dr.</td><td>4</td><td>2</td></tr><tr><td>6</td><td>Szép llonka</td><td>Dr.</td><td>3</td><td>1</td></tr><tr><td>7</td><td>Kiss János</td><td>NULL</td><td>2</td><td>1</td></tr><tr><td>8</td><td>Pelikán József</td><td>NULL</td><td>2</td><td>3</td></tr><tr><td>9</td><td>Farkasos Piroska</td><td>NULL</td><td>2</td><td>3</td></tr><tr><td>10</td><td>Jogrerős Pál</td><td>Prof.</td><td>6</td><td>1</td></tr><tr><td>11</td><td>Józsa Gábor</td><td>Dr.</td><td>4</td><td>1</td></tr><tr><td>12</td><td>Varga Kata</td><td>Dr.</td><td>4</td><td>1</td></tr><tr><td>14</td><td>Szénási ászló</td><td>NULL</td><td>3</td><td>1</td></tr><tr><td>18</td><td>Nógrádi Kata</td><td>NULL</td><td>1</td><td>1</td></tr><tr><td>19</td><td>Rácz András</td><td>NULL</td><td>1</td><td>1</td></tr><tr><td>20</td><td>Kovács András</td><td>NULL</td><td>1</td><td>1</td></tr><tr><td>104</td><td>Ludas Mátyás</td><td>NULL</td><td>1</td><td>1</td></tr><tr><td>105</td><td>Kiss István</td><td>NULL</td><td>1</td><td>2</td></tr><tr><td>107</td><td>Mészáros Kriszta</td><td>NULL</td><td>1</td><td>2</td></tr><tr><td>108</td><td>Róbert Gida</td><td>NULL</td><td>2</td><td>1</td></tr><tr><td>111</td><td>Vitéz János</td><td>NULL</td><td>2</td><td>1</td></tr><tr><td>200</td><td>Aranyi Mária</td><td>NULL</td><td>1</td><td>1</td></tr><tr><td>300</td><td>Szabó Andrera</td><td>NULL</td><td>1</td><td>1</td></tr><tr><td>301</td><td>Juhász András</td><td>Dr.</td><td>6</td><td>1</td></tr><tr><td>302</td><td>Kovacs Istvan</td><td>Dr.</td><td>5</td><td>1</td></tr></table>"
                    },
                    "metadata": {}
                }
            ],
            "execution_count": 9
        },
        {
            "cell_type": "code",
            "source": [
                "ALTER TABLE Oktatok\r\n",
                "ALTER COLUMN status ADD MASKED WITH (FUNCTION = 'partial(1, \"X\", 0)');\r\n",
                ""
            ],
            "metadata": {
                "azdata_cell_guid": "22ca5d60-f8be-4ba8-82d3-4730a075ba66",
                "language": "sql",
                "tags": []
            },
            "outputs": [
                {
                    "output_type": "error",
                    "evalue": "Msg 16003, Level 16, State 0, Line 1\r\nThe data type of column 'status' does not support data masking function 'partial'.",
                    "ename": "",
                    "traceback": []
                },
                {
                    "output_type": "display_data",
                    "data": {
                        "text/html": "Total execution time: 00:00:00.001"
                    },
                    "metadata": {}
                }
            ],
            "execution_count": 2
        },
        {
            "cell_type": "code",
            "source": [
                "CREATE TABLE tanulmanyi\r\n",
                "(MemberID INT IDENTITY PRIMARY KEY,\r\n",
                "oktato_id varchar(100)\tMASKED WITH (Function = 'default()'),\r\n",
                "nev varchar(100) MASKED WITH (Function = 'partial(1,\"XXX\",1)'),\r\n",
                "titulus varchar(100) MASKED WITH (function = 'email()'),\r\n",
                "beosztas int MASKED WITH (Function = 'default()'),\r\n",
                "status date MASKED WITH (Function = 'default()')\r\n",
                ")"
            ],
            "metadata": {
                "azdata_cell_guid": "3aaf8162-1875-4e07-a491-43ec0fc86a09",
                "language": "sql",
                "tags": []
            },
            "outputs": [
                {
                    "output_type": "error",
                    "evalue": "Msg 262, Level 14, State 1, Line 1\r\nCREATE TABLE permission denied in database 'tanulmanyi'.",
                    "ename": "",
                    "traceback": []
                },
                {
                    "output_type": "display_data",
                    "data": {
                        "text/html": "Total execution time: 00:00:00.002"
                    },
                    "metadata": {}
                }
            ],
            "execution_count": 3
        },
        {
            "cell_type": "code",
            "source": [
                "\r\n",
                "CREATE USER MaskUser WITHOUT Login;\r\n",
                "GRANT SELECT ON tanulmanyi TO MaskUser\r\n",
                "\r\n",
                ""
            ],
            "metadata": {
                "language": "sql",
                "azdata_cell_guid": "0d3257b1-0e48-4b9e-82d6-994a459d5871"
            },
            "outputs": [
                {
                    "output_type": "error",
                    "evalue": "Msg 15247, Level 16, State 1, Line 2\r\nUser does not have permission to perform this action.",
                    "ename": "",
                    "traceback": []
                },
                {
                    "output_type": "error",
                    "evalue": "Msg 15151, Level 16, State 1, Line 3\r\nCannot find the object 'tanulmanyi', because it does not exist or you do not have permission.",
                    "ename": "",
                    "traceback": []
                },
                {
                    "output_type": "display_data",
                    "data": {
                        "text/html": "Total execution time: 00:00:00.002"
                    },
                    "metadata": {}
                }
            ],
            "execution_count": 4
        },
        {
            "cell_type": "code",
            "source": [
                "EXECUTE AS User= 'MaskUser';\r\n",
                "SELECT * FROM tanulmanyi\r\n",
                "REVERT\r\n",
                "\r\n",
                "\r\n",
                "GRANT UNMASK TO MaskUser"
            ],
            "metadata": {
                "language": "sql",
                "azdata_cell_guid": "63c76d95-1533-4c8f-bb9c-3576974ab71e"
            },
            "outputs": [],
            "execution_count": null
        },
        {
            "cell_type": "code",
            "source": [
                "\r\n",
                "SELECT OBJECT_NAME(OBJECT_ID) TableName, \r\n",
                "Name ,\r\n",
                "is_masked,\r\n",
                "masking_function\r\n",
                "FROM sys.masked_columns"
            ],
            "metadata": {
                "language": "sql",
                "azdata_cell_guid": "ec2a6388-94b7-4dc0-acc1-77970982ca67"
            },
            "outputs": [],
            "execution_count": null
        }
    ]
}